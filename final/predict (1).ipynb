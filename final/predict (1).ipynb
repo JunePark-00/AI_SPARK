{
  "cells": [
    {
      "cell_type": "code",
      "execution_count": 40,
      "id": "f75d9c32",
      "metadata": {
        "id": "f75d9c32"
      },
      "outputs": [],
      "source": [
        "import pandas as pd\n",
        "import numpy as np\n",
        "import seaborn as sns\n",
        "import matplotlib.pyplot as plt\n",
        "from sklearn.preprocessing import MinMaxScaler\n",
        "import joblib\n",
        "\n",
        "import warnings\n",
        "warnings.filterwarnings(\"ignore\")"
      ]
    },
    {
      "cell_type": "code",
      "execution_count": 41,
      "id": "a8ec4100",
      "metadata": {
        "id": "a8ec4100"
      },
      "outputs": [],
      "source": [
        "# test 데이터 불러오기\n",
        "test = pd.read_csv('./test_data.csv')\n",
        "\n",
        "# anwer sample 데이터 불러오기 \n",
        "result = pd.read_csv('./answer_sample.csv')"
      ]
    },
    {
      "cell_type": "code",
      "execution_count": 42,
      "id": "884af7dd",
      "metadata": {
        "colab": {
          "base_uri": "https://localhost:8080/"
        },
        "id": "884af7dd",
        "outputId": "6c4f32a1-c507-4a66-8602-8f0a5a0e1fee"
      },
      "outputs": [
        {
          "output_type": "stream",
          "name": "stdout",
          "text": [
            "Looking in indexes: https://pypi.org/simple, https://us-python.pkg.dev/colab-wheels/public/simple/\n",
            "Requirement already satisfied: pyod in /usr/local/lib/python3.9/dist-packages (1.0.9)\n",
            "Requirement already satisfied: numpy>=1.19 in /usr/local/lib/python3.9/dist-packages (from pyod) (1.22.4)\n",
            "Requirement already satisfied: scipy>=1.5.1 in /usr/local/lib/python3.9/dist-packages (from pyod) (1.10.1)\n",
            "Requirement already satisfied: joblib in /usr/local/lib/python3.9/dist-packages (from pyod) (1.2.0)\n",
            "Requirement already satisfied: six in /usr/local/lib/python3.9/dist-packages (from pyod) (1.16.0)\n",
            "Requirement already satisfied: scikit-learn>=0.20.0 in /usr/local/lib/python3.9/dist-packages (from pyod) (1.2.2)\n",
            "Requirement already satisfied: matplotlib in /usr/local/lib/python3.9/dist-packages (from pyod) (3.7.1)\n",
            "Requirement already satisfied: numba>=0.51 in /usr/local/lib/python3.9/dist-packages (from pyod) (0.56.4)\n",
            "Requirement already satisfied: setuptools in /usr/local/lib/python3.9/dist-packages (from numba>=0.51->pyod) (67.7.2)\n",
            "Requirement already satisfied: llvmlite<0.40,>=0.39.0dev0 in /usr/local/lib/python3.9/dist-packages (from numba>=0.51->pyod) (0.39.1)\n",
            "Requirement already satisfied: threadpoolctl>=2.0.0 in /usr/local/lib/python3.9/dist-packages (from scikit-learn>=0.20.0->pyod) (3.1.0)\n",
            "Requirement already satisfied: pillow>=6.2.0 in /usr/local/lib/python3.9/dist-packages (from matplotlib->pyod) (8.4.0)\n",
            "Requirement already satisfied: packaging>=20.0 in /usr/local/lib/python3.9/dist-packages (from matplotlib->pyod) (23.1)\n",
            "Requirement already satisfied: pyparsing>=2.3.1 in /usr/local/lib/python3.9/dist-packages (from matplotlib->pyod) (3.0.9)\n",
            "Requirement already satisfied: importlib-resources>=3.2.0 in /usr/local/lib/python3.9/dist-packages (from matplotlib->pyod) (5.12.0)\n",
            "Requirement already satisfied: cycler>=0.10 in /usr/local/lib/python3.9/dist-packages (from matplotlib->pyod) (0.11.0)\n",
            "Requirement already satisfied: contourpy>=1.0.1 in /usr/local/lib/python3.9/dist-packages (from matplotlib->pyod) (1.0.7)\n",
            "Requirement already satisfied: kiwisolver>=1.0.1 in /usr/local/lib/python3.9/dist-packages (from matplotlib->pyod) (1.4.4)\n",
            "Requirement already satisfied: fonttools>=4.22.0 in /usr/local/lib/python3.9/dist-packages (from matplotlib->pyod) (4.39.3)\n",
            "Requirement already satisfied: python-dateutil>=2.7 in /usr/local/lib/python3.9/dist-packages (from matplotlib->pyod) (2.8.2)\n",
            "Requirement already satisfied: zipp>=3.1.0 in /usr/local/lib/python3.9/dist-packages (from importlib-resources>=3.2.0->matplotlib->pyod) (3.15.0)\n"
          ]
        }
      ],
      "source": [
        "!pip install pyod"
      ]
    },
    {
      "cell_type": "markdown",
      "id": "bccb1f27",
      "metadata": {
        "id": "bccb1f27"
      },
      "source": [
        "# 1. test 데이터를 type 마력별로 나눔¶"
      ]
    },
    {
      "cell_type": "code",
      "execution_count": 43,
      "id": "29dae72a",
      "metadata": {
        "id": "29dae72a"
      },
      "outputs": [],
      "source": [
        "test_1 = test[test['type'] == 1].iloc[:, :-1]\n",
        "test_2 = test[test['type'] == 2].iloc[:, :-1]\n",
        "test_3 = test[test['type'] == 3].iloc[:, :-1]\n",
        "test_4 = test[test['type'].isin([0, 4, 5, 6, 7])].iloc[:, :-1]"
      ]
    },
    {
      "cell_type": "markdown",
      "id": "bbd414dc",
      "metadata": {
        "id": "bbd414dc"
      },
      "source": [
        "# 2. 정규화 진행"
      ]
    },
    {
      "cell_type": "code",
      "execution_count": 44,
      "id": "43c3d410",
      "metadata": {
        "id": "43c3d410"
      },
      "outputs": [],
      "source": [
        "#scaler = MinMaxScaler()\n",
        "scaler1 = joblib.load('./train_scaled_1.pkl')\n",
        "scaler2 = joblib.load('./train_scaled_2.pkl')\n",
        "scaler3 = joblib.load('./train_scaled_3.pkl')\n",
        "scaler4 = joblib.load('./train_scaled_4.pkl')\n",
        "\n",
        "test_scaled_1 = scaler1.transform(test_1)\n",
        "test_scaled_2 = scaler2.transform(test_2)\n",
        "test_scaled_3 = scaler3.transform(test_3)\n",
        "test_scaled_4 = scaler4.transform(test_4)"
      ]
    },
    {
      "cell_type": "markdown",
      "id": "a2a05400",
      "metadata": {
        "id": "a2a05400"
      },
      "source": [
        "# 3. 학습한 모델 불러오기"
      ]
    },
    {
      "cell_type": "code",
      "execution_count": 45,
      "id": "ac797108",
      "metadata": {
        "id": "ac797108"
      },
      "outputs": [],
      "source": [
        "model1 = joblib.load('./model1.pkl')\n",
        "model2 = joblib.load('./model2.pkl')\n",
        "model3 = joblib.load('./model3.pkl')\n",
        "model4 = joblib.load('./model4.pkl')"
      ]
    },
    {
      "cell_type": "markdown",
      "id": "11496d2c",
      "metadata": {
        "id": "11496d2c"
      },
      "source": [
        "# 4. 예측 진행"
      ]
    },
    {
      "cell_type": "code",
      "execution_count": 46,
      "id": "4cc1552f",
      "metadata": {
        "id": "4cc1552f"
      },
      "outputs": [],
      "source": [
        "def abod_predict(model, test):\n",
        "    from pyod.models.abod import ABOD\n",
        "    \n",
        "    model_pred = model.predict(test)\n",
        "    model_pred = np.where(model_pred == -1, 0, model_pred)\n",
        "    model_pred = np.where(model_pred == 1, 1, model_pred)\n",
        "    \n",
        "    return model_pred"
      ]
    },
    {
      "cell_type": "code",
      "execution_count": 47,
      "id": "9f658a6a",
      "metadata": {
        "collapsed": true,
        "id": "9f658a6a"
      },
      "outputs": [],
      "source": [
        "# 이상 탐지 예측\n",
        "pred_1 = abod_predict(model1, test_scaled_1)\n",
        "pred_2 = abod_predict(model2, test_scaled_2)\n",
        "pred_3 = abod_predict(model3, test_scaled_3)\n",
        "pred_4 = abod_predict(model4, test_scaled_4)"
      ]
    },
    {
      "cell_type": "code",
      "execution_count": 48,
      "id": "40e738a1",
      "metadata": {
        "id": "40e738a1"
      },
      "outputs": [],
      "source": [
        "# 예측한 결과를 result 파일에 저장\n",
        "result_1 = result[result['type'] == 1]\n",
        "result_1['label'] = pred_1\n",
        "\n",
        "result_2 = result[result['type'] == 2]\n",
        "result_2['label'] = pred_2\n",
        "\n",
        "result_3 = result[result['type'] == 3]\n",
        "result_3['label'] = pred_3\n",
        "\n",
        "result_4 = result[result['type'].isin([0, 4, 5, 6, 7])]\n",
        "result_4['label'] = pred_4"
      ]
    },
    {
      "cell_type": "code",
      "execution_count": 49,
      "id": "6188b876",
      "metadata": {
        "id": "6188b876"
      },
      "outputs": [],
      "source": [
        "final = pd.concat([result_1, result_2], axis=0).sort_index()\n",
        "final = pd.concat([final, result_3], axis=0).sort_index()\n",
        "final = pd.concat([final, result_4], axis=0).sort_index()"
      ]
    },
    {
      "cell_type": "markdown",
      "id": "521fa6ad",
      "metadata": {
        "id": "521fa6ad"
      },
      "source": [
        "# 5. type 1에 대한 처리"
      ]
    },
    {
      "cell_type": "markdown",
      "id": "7988122f",
      "metadata": {
        "id": "7988122f"
      },
      "source": [
        "<img src=\"https://img1.daumcdn.net/thumb/R1280x0/?scode=mtistory2&fname=https%3A%2F%2Fblog.kakaocdn.net%2Fdn%2F7kXLU%2FbtscQPFNCMi%2FnHufxDIKRXLv8xlB5PhTe0%2Fimg.png\"/>"
      ]
    },
    {
      "cell_type": "markdown",
      "id": "76b7cfd2",
      "metadata": {
        "id": "76b7cfd2"
      },
      "source": [
        "### type별 시각화\n",
        "<img src=\"https://img1.daumcdn.net/thumb/R1280x0/?scode=mtistory2&fname=https%3A%2F%2Fblog.kakaocdn.net%2Fdn%2FuprpU%2FbtscQxLZNvk%2Fe7rRoqpCfGQ4FdMxEyUEY1%2Fimg.png\"/>"
      ]
    },
    {
      "cell_type": "markdown",
      "id": "27e45aac",
      "metadata": {
        "id": "27e45aac"
      },
      "source": [
        "- 위와 같이 type별로 train, test 데이터에 대해 시각화를 진행해본 결과, type1에 해당하는 train 데이터에 비정상 데이터가 존재하는 것을 확인했다.\n",
        "- Q&A에 답변해주신 것처럼 현장 엔지니어의 실수가 있을 수 있었다고 판단하여, train 데이터에도 이상치가 있다고 가정했다.\n",
        "- train 데이터에서 발견된 이상 데이터는 총 48개 였으며, 해당 데이터가 test 데이터 내에 존재한다고 가정했다.\n",
        "- 이에 test 데이터의 특정 위치에 비정상 데이터를 추가했다."
      ]
    },
    {
      "cell_type": "code",
      "execution_count": 50,
      "id": "07fee593",
      "metadata": {
        "id": "07fee593"
      },
      "outputs": [],
      "source": [
        "final.loc[1396:1443, 'label'] = 1"
      ]
    },
    {
      "cell_type": "markdown",
      "id": "842eba0e",
      "metadata": {
        "id": "842eba0e"
      },
      "source": [
        "# 6. type 7에 대한 처리"
      ]
    },
    {
      "cell_type": "markdown",
      "id": "05bbbcbd",
      "metadata": {
        "id": "05bbbcbd"
      },
      "source": [
        "- 공기압축기 데이터는 기계 작동 중에 모터 온도가 증가하고 진동이 증가하며 유량이 감소하는 이상 현상이 발생 시, 윤활유 공급 라인의 밸브를 off 상태에서 on 상태로 변경하여 정상화 시킨다.\n",
        "- 이러한 과정에 대한 도메인 지식을 바탕으로 우리는 이상 데이터는 연속될 것이라고 판단했다. \n",
        "- 따라서 type7의 분산된 이상치는 연결되어야 한다고 판단하여, 분산된 이상치를 연결시켜주었다."
      ]
    },
    {
      "cell_type": "code",
      "execution_count": 51,
      "id": "ed820a6c",
      "metadata": {
        "collapsed": true,
        "id": "ed820a6c"
      },
      "outputs": [],
      "source": [
        "final.loc[7343:7347, 'label'] = 1"
      ]
    },
    {
      "cell_type": "markdown",
      "id": "3b49887e",
      "metadata": {
        "id": "3b49887e"
      },
      "source": [
        "# 7. 최종 파일 저장"
      ]
    },
    {
      "cell_type": "code",
      "execution_count": 52,
      "id": "0d063daa",
      "metadata": {
        "id": "0d063daa"
      },
      "outputs": [],
      "source": [
        "# 최종 \n",
        "final.to_csv('./result.csv', index=False)"
      ]
    }
  ],
  "metadata": {
    "kernelspec": {
      "display_name": "Python 3 (ipykernel)",
      "language": "python",
      "name": "python3"
    },
    "language_info": {
      "codemirror_mode": {
        "name": "ipython",
        "version": 3
      },
      "file_extension": ".py",
      "mimetype": "text/x-python",
      "name": "python",
      "nbconvert_exporter": "python",
      "pygments_lexer": "ipython3",
      "version": "3.10.8"
    },
    "colab": {
      "provenance": []
    }
  },
  "nbformat": 4,
  "nbformat_minor": 5
}