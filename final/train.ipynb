{
  "cells": [
    {
      "cell_type": "code",
      "execution_count": 23,
      "metadata": {
        "id": "bzHp6N_Jxknv"
      },
      "outputs": [],
      "source": [
        "import pandas as pd\n",
        "import numpy as np\n",
        "import seaborn as sns\n",
        "import matplotlib.pyplot as plt\n",
        "from sklearn.preprocessing import MinMaxScaler\n",
        "import joblib\n",
        "\n",
        "import warnings\n",
        "warnings.filterwarnings(\"ignore\")"
      ]
    },
    {
      "cell_type": "code",
      "execution_count": 24,
      "metadata": {
        "id": "UW6_hBVVxogQ"
      },
      "outputs": [],
      "source": [
        "# train 데이터 불러오기\n",
        "train = pd.read_csv('./train_data.csv')"
      ]
    },
    {
      "cell_type": "code",
      "execution_count": 25,
      "metadata": {
        "colab": {
          "base_uri": "https://localhost:8080/"
        },
        "id": "aRfiNcoNKoz6",
        "outputId": "20485c37-0815-4c14-a505-284dc78cc270"
      },
      "outputs": [
        {
          "output_type": "stream",
          "name": "stdout",
          "text": [
            "Looking in indexes: https://pypi.org/simple, https://us-python.pkg.dev/colab-wheels/public/simple/\n",
            "Requirement already satisfied: pyod in /usr/local/lib/python3.9/dist-packages (1.0.9)\n",
            "Requirement already satisfied: numba>=0.51 in /usr/local/lib/python3.9/dist-packages (from pyod) (0.56.4)\n",
            "Requirement already satisfied: six in /usr/local/lib/python3.9/dist-packages (from pyod) (1.16.0)\n",
            "Requirement already satisfied: numpy>=1.19 in /usr/local/lib/python3.9/dist-packages (from pyod) (1.22.4)\n",
            "Requirement already satisfied: scipy>=1.5.1 in /usr/local/lib/python3.9/dist-packages (from pyod) (1.10.1)\n",
            "Requirement already satisfied: scikit-learn>=0.20.0 in /usr/local/lib/python3.9/dist-packages (from pyod) (1.2.2)\n",
            "Requirement already satisfied: joblib in /usr/local/lib/python3.9/dist-packages (from pyod) (1.2.0)\n",
            "Requirement already satisfied: matplotlib in /usr/local/lib/python3.9/dist-packages (from pyod) (3.7.1)\n",
            "Requirement already satisfied: setuptools in /usr/local/lib/python3.9/dist-packages (from numba>=0.51->pyod) (67.7.2)\n",
            "Requirement already satisfied: llvmlite<0.40,>=0.39.0dev0 in /usr/local/lib/python3.9/dist-packages (from numba>=0.51->pyod) (0.39.1)\n",
            "Requirement already satisfied: threadpoolctl>=2.0.0 in /usr/local/lib/python3.9/dist-packages (from scikit-learn>=0.20.0->pyod) (3.1.0)\n",
            "Requirement already satisfied: contourpy>=1.0.1 in /usr/local/lib/python3.9/dist-packages (from matplotlib->pyod) (1.0.7)\n",
            "Requirement already satisfied: kiwisolver>=1.0.1 in /usr/local/lib/python3.9/dist-packages (from matplotlib->pyod) (1.4.4)\n",
            "Requirement already satisfied: pyparsing>=2.3.1 in /usr/local/lib/python3.9/dist-packages (from matplotlib->pyod) (3.0.9)\n",
            "Requirement already satisfied: fonttools>=4.22.0 in /usr/local/lib/python3.9/dist-packages (from matplotlib->pyod) (4.39.3)\n",
            "Requirement already satisfied: cycler>=0.10 in /usr/local/lib/python3.9/dist-packages (from matplotlib->pyod) (0.11.0)\n",
            "Requirement already satisfied: python-dateutil>=2.7 in /usr/local/lib/python3.9/dist-packages (from matplotlib->pyod) (2.8.2)\n",
            "Requirement already satisfied: packaging>=20.0 in /usr/local/lib/python3.9/dist-packages (from matplotlib->pyod) (23.1)\n",
            "Requirement already satisfied: importlib-resources>=3.2.0 in /usr/local/lib/python3.9/dist-packages (from matplotlib->pyod) (5.12.0)\n",
            "Requirement already satisfied: pillow>=6.2.0 in /usr/local/lib/python3.9/dist-packages (from matplotlib->pyod) (8.4.0)\n",
            "Requirement already satisfied: zipp>=3.1.0 in /usr/local/lib/python3.9/dist-packages (from importlib-resources>=3.2.0->matplotlib->pyod) (3.15.0)\n"
          ]
        }
      ],
      "source": [
        "!pip install pyod"
      ]
    },
    {
      "cell_type": "markdown",
      "metadata": {
        "id": "AUFVTbrCnrwt"
      },
      "source": [
        "## 1. train 데이터를 type 마력별로 나눔"
      ]
    },
    {
      "cell_type": "code",
      "execution_count": 26,
      "metadata": {
        "id": "6ZYfI3TcKO6x"
      },
      "outputs": [],
      "source": [
        "train_1 = train[train['type'] == 1].iloc[:, :-1]\n",
        "train_2 = train[train['type'] == 2].iloc[:, :-1]\n",
        "train_3 = train[train['type'] == 3].iloc[:, :-1]\n",
        "train_4 = train[train['type'].isin([0, 4, 5, 6, 7])].iloc[:, :-1]"
      ]
    },
    {
      "cell_type": "markdown",
      "metadata": {
        "id": "VtbYlEAMnrwv"
      },
      "source": [
        "# 2. 정규화"
      ]
    },
    {
      "cell_type": "code",
      "execution_count": 27,
      "metadata": {
        "id": "wsb6xtBVKc5R",
        "colab": {
          "base_uri": "https://localhost:8080/"
        },
        "outputId": "c14cd1e1-7fc0-4c7b-f093-ad8a5c3b68f9"
      },
      "outputs": [
        {
          "output_type": "execute_result",
          "data": {
            "text/plain": [
              "['./train_scaled_4.pkl']"
            ]
          },
          "metadata": {},
          "execution_count": 27
        }
      ],
      "source": [
        "scaler = MinMaxScaler()\n",
        "\n",
        "train_scaled_1 = scaler.fit_transform(train_1)\n",
        "joblib.dump(scaler, './train_scaled_1.pkl')\n",
        "\n",
        "train_scaled_2 = scaler.fit_transform(train_2)\n",
        "joblib.dump(scaler, './train_scaled_2.pkl')\n",
        "\n",
        "train_scaled_3 = scaler.fit_transform(train_3)\n",
        "joblib.dump(scaler, './train_scaled_3.pkl')\n",
        "\n",
        "train_scaled_4 = scaler.fit_transform(train_4)\n",
        "joblib.dump(scaler, './train_scaled_4.pkl')"
      ]
    },
    {
      "cell_type": "markdown",
      "metadata": {
        "id": "AO6TDFYanrwv"
      },
      "source": [
        "# 3. 모델링"
      ]
    },
    {
      "cell_type": "code",
      "execution_count": 28,
      "metadata": {
        "id": "6tbiH_S_nrww"
      },
      "outputs": [],
      "source": [
        "def abod(train):\n",
        "    from pyod.models.abod import ABOD\n",
        "    \n",
        "    model = ABOD(contamination=0.0001, n_neighbors=30)\n",
        "    model.fit(train)    \n",
        "    \n",
        "    return model"
      ]
    },
    {
      "cell_type": "code",
      "execution_count": 29,
      "metadata": {
        "collapsed": true,
        "id": "zunTJG2-nrww"
      },
      "outputs": [],
      "source": [
        "model1 = abod(train_scaled_1)\n",
        "model2 = abod(train_scaled_2)\n",
        "model3 = abod(train_scaled_3)\n",
        "model4 = abod(train_scaled_4)"
      ]
    },
    {
      "cell_type": "markdown",
      "metadata": {
        "id": "SZIQUs1Snrww"
      },
      "source": [
        "# 4. 모델 저장"
      ]
    },
    {
      "cell_type": "code",
      "execution_count": 30,
      "metadata": {
        "collapsed": true,
        "colab": {
          "base_uri": "https://localhost:8080/"
        },
        "id": "_WBoPPE5nrwx",
        "outputId": "a13febb1-49d3-4e69-9154-03789d2be27c"
      },
      "outputs": [
        {
          "output_type": "execute_result",
          "data": {
            "text/plain": [
              "['./model4.pkl']"
            ]
          },
          "metadata": {},
          "execution_count": 30
        }
      ],
      "source": [
        "joblib.dump(model1, './model1.pkl')\n",
        "joblib.dump(model2, './model2.pkl')\n",
        "joblib.dump(model3, './model3.pkl')\n",
        "joblib.dump(model4, './model4.pkl')"
      ]
    }
  ],
  "metadata": {
    "accelerator": "GPU",
    "colab": {
      "provenance": []
    },
    "gpuClass": "standard",
    "kernelspec": {
      "display_name": "Python 3 (ipykernel)",
      "language": "python",
      "name": "python3"
    },
    "language_info": {
      "codemirror_mode": {
        "name": "ipython",
        "version": 3
      },
      "file_extension": ".py",
      "mimetype": "text/x-python",
      "name": "python",
      "nbconvert_exporter": "python",
      "pygments_lexer": "ipython3",
      "version": "3.10.8"
    }
  },
  "nbformat": 4,
  "nbformat_minor": 0
}