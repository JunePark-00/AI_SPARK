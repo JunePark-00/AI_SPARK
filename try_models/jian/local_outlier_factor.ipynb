{
 "cells": [
  {
   "cell_type": "code",
   "execution_count": null,
   "metadata": {},
   "outputs": [],
   "source": [
    "import pandas as pd\n",
    "import numpy as np\n",
    "import seaborn as sns\n",
    "import matplotlib.pyplot as plt\n",
    "\n",
    "import warnings\n",
    "warnings.filterwarnings(\"ignore\")\n",
    "\n",
    "# train 데이터 불러오기\n",
    "train = pd.read_csv('../dataset/train_data.csv')\n",
    "\n",
    "# test 데이터 불러오기\n",
    "test = pd.read_csv('../dataset/test_data.csv')\n",
    "\n",
    "result = pd.read_csv('../dataset/answer_sample.csv')"
   ]
  },
  {
   "cell_type": "code",
   "execution_count": null,
   "metadata": {},
   "outputs": [],
   "source": [
    "from sklearn.neighbors import LocalOutlierFactor\n",
    "\n",
    "X_train = scaler.fit_transform(train.drop(['out_pressure'], axis=1))\n",
    "X_test = scaler.transform(test.drop(['out_pressure'], axis=1))\n",
    "\n",
    "lof = LocalOutlierFactor(n_neighbors=20, contamination=0.05)\n",
    "y_pred = lof.fit_predict(X_train)\n",
    "\n",
    "y_pred_test = lof.fit_predict(X_test)\n",
    "outlier_index = np.where(y_pred_test == -1)[0]\n",
    "outliers = lof.negative_outlier_factor_[outlier_index]\n",
    "\n",
    "# 저장한 인덱스와 이상치 점수를 이용하여 결과를 출력합니다.\n",
    "ans = []\n",
    "for i in range(len(test)):\n",
    "    if i in outlier_index:\n",
    "        ans.append((i, outliers[np.where(outlier_index==i)[0][0]]))\n",
    "\n",
    "# 저장 \n",
    "answer = pd.read_csv('/content/drive/MyDrive/AIVLE/air/answer_sample.csv')\n",
    "for i in range(len(answer)):\n",
    "  if i in outlier_index:\n",
    "    answer.iloc[i, 1] = 1\n",
    "  else:\n",
    "    answer.iloc[i, 1] = 0\n",
    "\n",
    "answer.to_csv('LocalOutlierFactor.csv', index=False)"
   ]
  }
 ],
 "metadata": {
  "language_info": {
   "name": "python"
  },
  "orig_nbformat": 4
 },
 "nbformat": 4,
 "nbformat_minor": 2
}
