{
 "cells": [
  {
   "cell_type": "code",
   "execution_count": 1,
   "metadata": {
    "id": "bzHp6N_Jxknv"
   },
   "outputs": [],
   "source": [
    "import pandas as pd\n",
    "import numpy as np\n",
    "import seaborn as sns\n",
    "import matplotlib.pyplot as plt\n",
    "\n",
    "import warnings\n",
    "warnings.filterwarnings(\"ignore\")"
   ]
  },
  {
   "cell_type": "code",
   "execution_count": 11,
   "metadata": {
    "colab": {
     "base_uri": "https://localhost:8080/",
     "height": 206
    },
    "id": "UW6_hBVVxogQ",
    "outputId": "1c7f84b5-bf5e-49ab-b8d5-8eaec5f399b0"
   },
   "outputs": [],
   "source": [
    "# train 데이터 불러오기\n",
    "train = pd.read_csv('../dataset/train_data.csv')\n",
    "# test 데이터 불러오기\n",
    "test = pd.read_csv('../dataset/test_data.csv')"
   ]
  },
  {
   "cell_type": "code",
   "execution_count": 12,
   "metadata": {},
   "outputs": [],
   "source": [
    "train = pd.concat([train,test], ignore_index = True)"
   ]
  },
  {
   "attachments": {},
   "cell_type": "markdown",
   "metadata": {},
   "source": [
    "## type = 1"
   ]
  },
  {
   "cell_type": "code",
   "execution_count": 112,
   "metadata": {
    "colab": {
     "base_uri": "https://localhost:8080/",
     "height": 1000
    },
    "id": "XEpP9Dozzy12",
    "outputId": "33fbc06b-a266-41a6-fac8-8c87a6a17e14"
   },
   "outputs": [
    {
     "name": "stdout",
     "output_type": "stream",
     "text": [
      "Epoch 1/20\n",
      "11/11 [==============================] - 1s 41ms/step - loss: 0.2013 - val_loss: 0.1227\n",
      "Epoch 2/20\n",
      "11/11 [==============================] - 0s 7ms/step - loss: 0.1160 - val_loss: 0.0351\n",
      "Epoch 3/20\n",
      "11/11 [==============================] - 0s 6ms/step - loss: 0.0314 - val_loss: 0.0193\n",
      "Epoch 4/20\n",
      "11/11 [==============================] - 0s 7ms/step - loss: 0.0158 - val_loss: 0.0088\n",
      "Epoch 5/20\n",
      "11/11 [==============================] - 0s 7ms/step - loss: 0.0120 - val_loss: 0.0054\n",
      "Epoch 6/20\n",
      "11/11 [==============================] - 0s 8ms/step - loss: 0.0085 - val_loss: 0.0028\n",
      "Epoch 7/20\n",
      "11/11 [==============================] - 0s 7ms/step - loss: 0.0062 - val_loss: 7.2670e-04\n",
      "Epoch 8/20\n",
      "11/11 [==============================] - 0s 6ms/step - loss: 0.0052 - val_loss: 4.7489e-04\n",
      "Epoch 9/20\n",
      "11/11 [==============================] - 0s 6ms/step - loss: 0.0047 - val_loss: 4.5020e-04\n",
      "Epoch 10/20\n",
      "11/11 [==============================] - 0s 7ms/step - loss: 0.0040 - val_loss: 2.1113e-04\n",
      "Epoch 11/20\n",
      "11/11 [==============================] - 0s 7ms/step - loss: 0.0032 - val_loss: 2.0289e-04\n",
      "Epoch 12/20\n",
      "11/11 [==============================] - 0s 7ms/step - loss: 0.0023 - val_loss: 1.1708e-04\n",
      "Epoch 13/20\n",
      "11/11 [==============================] - 0s 7ms/step - loss: 0.0013 - val_loss: 8.1642e-05\n",
      "Epoch 14/20\n",
      "11/11 [==============================] - 0s 7ms/step - loss: 6.8657e-04 - val_loss: 3.6367e-05\n",
      "Epoch 15/20\n",
      "11/11 [==============================] - 0s 7ms/step - loss: 3.3319e-04 - val_loss: 3.0060e-05\n",
      "Epoch 16/20\n",
      "11/11 [==============================] - 0s 6ms/step - loss: 1.5253e-04 - val_loss: 1.9629e-05\n",
      "Epoch 17/20\n",
      "11/11 [==============================] - 0s 7ms/step - loss: 8.3112e-05 - val_loss: 1.7456e-05\n",
      "Epoch 18/20\n",
      "11/11 [==============================] - 0s 7ms/step - loss: 6.2757e-05 - val_loss: 1.2402e-05\n",
      "Epoch 19/20\n",
      "11/11 [==============================] - 0s 8ms/step - loss: 5.1409e-05 - val_loss: 9.4195e-06\n",
      "Epoch 20/20\n",
      "11/11 [==============================] - 0s 8ms/step - loss: 3.8609e-05 - val_loss: 5.3125e-06\n",
      "12/12 [==============================] - 0s 3ms/step\n",
      "35/35 [==============================] - 0s 2ms/step\n"
     ]
    },
    {
     "data": {
      "text/html": [
       "<div>\n",
       "<style scoped>\n",
       "    .dataframe tbody tr th:only-of-type {\n",
       "        vertical-align: middle;\n",
       "    }\n",
       "\n",
       "    .dataframe tbody tr th {\n",
       "        vertical-align: top;\n",
       "    }\n",
       "\n",
       "    .dataframe thead th {\n",
       "        text-align: right;\n",
       "    }\n",
       "</style>\n",
       "<table border=\"1\" class=\"dataframe\">\n",
       "  <thead>\n",
       "    <tr style=\"text-align: right;\">\n",
       "      <th></th>\n",
       "      <th>Loss_mse</th>\n",
       "      <th>Threshold</th>\n",
       "      <th>Anomaly</th>\n",
       "    </tr>\n",
       "  </thead>\n",
       "  <tbody>\n",
       "    <tr>\n",
       "      <th>1296</th>\n",
       "      <td>0.001975</td>\n",
       "      <td>0.028366</td>\n",
       "      <td>0</td>\n",
       "    </tr>\n",
       "    <tr>\n",
       "      <th>1297</th>\n",
       "      <td>0.002311</td>\n",
       "      <td>0.028366</td>\n",
       "      <td>0</td>\n",
       "    </tr>\n",
       "    <tr>\n",
       "      <th>1298</th>\n",
       "      <td>0.001349</td>\n",
       "      <td>0.028366</td>\n",
       "      <td>0</td>\n",
       "    </tr>\n",
       "    <tr>\n",
       "      <th>1299</th>\n",
       "      <td>0.002228</td>\n",
       "      <td>0.028366</td>\n",
       "      <td>0</td>\n",
       "    </tr>\n",
       "    <tr>\n",
       "      <th>1300</th>\n",
       "      <td>0.001463</td>\n",
       "      <td>0.028366</td>\n",
       "      <td>0</td>\n",
       "    </tr>\n",
       "  </tbody>\n",
       "</table>\n",
       "</div>"
      ],
      "text/plain": [
       "      Loss_mse  Threshold  Anomaly\n",
       "1296  0.001975   0.028366        0\n",
       "1297  0.002311   0.028366        0\n",
       "1298  0.001349   0.028366        0\n",
       "1299  0.002228   0.028366        0\n",
       "1300  0.001463   0.028366        0"
      ]
     },
     "execution_count": 112,
     "metadata": {},
     "output_type": "execute_result"
    }
   ],
   "source": [
    "from keras.layers.rnn import TimeDistributed\n",
    "import tensorflow as tf\n",
    "from sklearn.preprocessing import MinMaxScaler\n",
    "from tensorflow.keras.layers import Input, Dense, LSTM, RepeatVector\n",
    "from tensorflow.keras.models import Model\n",
    "from tensorflow.keras import regularizers\n",
    "from tensorflow.keras.backend import clear_session\n",
    "from keras.optimizers import Adam\n",
    "from sklearn.model_selection import train_test_split\n",
    "\n",
    "clear_session()\n",
    "\n",
    "train_1 = train[train['type'] == 1].iloc[:, :-1]\n",
    "test_1 = test[test['type'] == 1].iloc[:, :-1]\n",
    "\n",
    "# 정규화\n",
    "scaler = MinMaxScaler()\n",
    "train_scaled = scaler.fit_transform(train_1)\n",
    "test_scaled = scaler.transform(test_1)\n",
    "\n",
    "# reshape\n",
    "train_scaled = train_scaled.reshape(train_scaled.shape[0], 1, train_scaled.shape[1])\n",
    "test_scaled = test_scaled.reshape(test_scaled.shape[0], 1, test_scaled.shape[1])\n",
    "\n",
    "# 이 부분만 변경함\n",
    "def ae_model(X):\n",
    "  inputs = Input(shape=(X.shape[1], X.shape[2]))\n",
    "  L1 = Dense(128, activation='relu')(inputs)\n",
    "  L2 = Dense(64, activation='relu')(L1)\n",
    "  L3 = Dense(32, activation='relu')(L2)\n",
    "  encoded = Dense(10, activation='relu')(L3)\n",
    "  L5 = Dense(32, activation='relu')(encoded)\n",
    "  L6 = Dense(64, activation='relu')(L5)\n",
    "  L7 = Dense(128, activation='relu')(L6)\n",
    "  decoded = Dense(X.shape[2], activation=None)(L7)\n",
    "\n",
    "  model = Model(inputs, decoded)\n",
    "  \n",
    "  return model\n",
    "\n",
    "\n",
    "# 모델 컴파일\n",
    "model = ae_model(train_scaled)\n",
    "model.compile(optimizer=Adam(lr=0.001), loss='mse')\n",
    "\n",
    "# 모델 학습\n",
    "history = model.fit(train_scaled, train_scaled, epochs=20, batch_size=32, validation_split=0.1).history\n",
    "\n",
    "\n",
    "# train 재구성 오차를 계산합니다.\n",
    "train_pred = model.predict(train_scaled)\n",
    "train_pred = train_pred.reshape(train_pred.shape[0], train_pred.shape[2])\n",
    "train_pred = pd.DataFrame(train_pred, columns=train_1.columns)\n",
    "train_pred.index = train_1.index\n",
    "\n",
    "scored = pd.DataFrame(index=train_1.index)\n",
    "Xtrain = train_scaled.reshape(train_scaled.shape[0], train_scaled.shape[2])\n",
    "scored['Loss_mse'] = np.mean(np.abs(train_pred - Xtrain), axis=1)\n",
    "\n",
    "# test 재구성 오차\n",
    "threshold = np.percentile(scored, 100)     \n",
    "\n",
    "test_pred = model.predict(test_scaled)\n",
    "test_pred = test_pred.reshape(test_pred.shape[0], test_pred.shape[2])\n",
    "test_pred = pd.DataFrame(test_pred, columns=test_1.columns)\n",
    "test_pred.index = test_1.index\n",
    "\n",
    "test_scored = pd.DataFrame(index=test_1.index)\n",
    "Xtest = test_scaled.reshape(test_scaled.shape[0], test_scaled.shape[2])\n",
    "test_scored['Loss_mse'] = np.mean(np.abs(test_pred - Xtest), axis=1)\n",
    "test_scored['Threshold'] = threshold\n",
    "test_scored['Anomaly'] = test_scored['Loss_mse'] > test_scored['Threshold']\n",
    "\n",
    "test_scored['Anomaly'] = test_scored['Anomaly'].replace(False, 0)\n",
    "test_scored['Anomaly'] = test_scored['Anomaly'].replace(True, 1)\n",
    "test_scored.head()"
   ]
  },
  {
   "cell_type": "code",
   "execution_count": 114,
   "metadata": {
    "id": "PZ8Ys2IRDOh4"
   },
   "outputs": [],
   "source": [
    "# 결과\n",
    "result = pd.read_csv('dataset/answer_sample.csv')\n",
    "result_1 = result[result['type'] == 1]\n",
    "result_1['label'] = test_scored['Anomaly'].values"
   ]
  },
  {
   "attachments": {},
   "cell_type": "markdown",
   "metadata": {},
   "source": [
    "## type = 2"
   ]
  },
  {
   "cell_type": "code",
   "execution_count": 115,
   "metadata": {
    "colab": {
     "base_uri": "https://localhost:8080/",
     "height": 1000
    },
    "id": "Yxfb4m98GnrU",
    "outputId": "70859b1c-f7b2-43fd-996d-f802b75d6144"
   },
   "outputs": [
    {
     "name": "stdout",
     "output_type": "stream",
     "text": [
      "Epoch 1/40\n",
      "11/11 [==============================] - 2s 39ms/step - loss: 0.2451 - val_loss: 0.1931\n",
      "Epoch 2/40\n",
      "11/11 [==============================] - 0s 7ms/step - loss: 0.1405 - val_loss: 0.0568\n",
      "Epoch 3/40\n",
      "11/11 [==============================] - 0s 6ms/step - loss: 0.0372 - val_loss: 0.0182\n",
      "Epoch 4/40\n",
      "11/11 [==============================] - 0s 7ms/step - loss: 0.0097 - val_loss: 0.0066\n",
      "Epoch 5/40\n",
      "11/11 [==============================] - 0s 7ms/step - loss: 0.0053 - val_loss: 0.0026\n",
      "Epoch 6/40\n",
      "11/11 [==============================] - 0s 7ms/step - loss: 0.0017 - val_loss: 5.4933e-04\n",
      "Epoch 7/40\n",
      "11/11 [==============================] - 0s 7ms/step - loss: 5.1547e-04 - val_loss: 2.7430e-04\n",
      "Epoch 8/40\n",
      "11/11 [==============================] - 0s 7ms/step - loss: 2.8451e-04 - val_loss: 1.7053e-04\n",
      "Epoch 9/40\n",
      "11/11 [==============================] - 0s 9ms/step - loss: 1.6941e-04 - val_loss: 6.4419e-05\n",
      "Epoch 10/40\n",
      "11/11 [==============================] - 0s 7ms/step - loss: 9.8380e-05 - val_loss: 3.6994e-05\n",
      "Epoch 11/40\n",
      "11/11 [==============================] - 0s 6ms/step - loss: 6.3522e-05 - val_loss: 2.9910e-05\n",
      "Epoch 12/40\n",
      "11/11 [==============================] - 0s 6ms/step - loss: 4.2137e-05 - val_loss: 2.2447e-05\n",
      "Epoch 13/40\n",
      "11/11 [==============================] - 0s 7ms/step - loss: 3.1169e-05 - val_loss: 1.9022e-05\n",
      "Epoch 14/40\n",
      "11/11 [==============================] - 0s 6ms/step - loss: 2.4495e-05 - val_loss: 1.4120e-05\n",
      "Epoch 15/40\n",
      "11/11 [==============================] - 0s 7ms/step - loss: 2.0222e-05 - val_loss: 1.3129e-05\n",
      "Epoch 16/40\n",
      "11/11 [==============================] - 0s 6ms/step - loss: 1.7381e-05 - val_loss: 1.1846e-05\n",
      "Epoch 17/40\n",
      "11/11 [==============================] - 0s 6ms/step - loss: 1.5192e-05 - val_loss: 1.0385e-05\n",
      "Epoch 18/40\n",
      "11/11 [==============================] - 0s 6ms/step - loss: 1.3039e-05 - val_loss: 7.4742e-06\n",
      "Epoch 19/40\n",
      "11/11 [==============================] - 0s 7ms/step - loss: 1.1556e-05 - val_loss: 7.2957e-06\n",
      "Epoch 20/40\n",
      "11/11 [==============================] - 0s 7ms/step - loss: 1.0230e-05 - val_loss: 6.8248e-06\n",
      "Epoch 21/40\n",
      "11/11 [==============================] - 0s 7ms/step - loss: 8.9622e-06 - val_loss: 5.7490e-06\n",
      "Epoch 22/40\n",
      "11/11 [==============================] - 0s 7ms/step - loss: 8.4013e-06 - val_loss: 5.4990e-06\n",
      "Epoch 23/40\n",
      "11/11 [==============================] - 0s 6ms/step - loss: 7.3469e-06 - val_loss: 5.1886e-06\n",
      "Epoch 24/40\n",
      "11/11 [==============================] - 0s 7ms/step - loss: 6.6873e-06 - val_loss: 4.5079e-06\n",
      "Epoch 25/40\n",
      "11/11 [==============================] - 0s 7ms/step - loss: 6.0529e-06 - val_loss: 4.3404e-06\n",
      "Epoch 26/40\n",
      "11/11 [==============================] - 0s 7ms/step - loss: 5.5022e-06 - val_loss: 4.1167e-06\n",
      "Epoch 27/40\n",
      "11/11 [==============================] - 0s 6ms/step - loss: 5.0450e-06 - val_loss: 3.8237e-06\n",
      "Epoch 28/40\n",
      "11/11 [==============================] - 0s 7ms/step - loss: 4.7504e-06 - val_loss: 3.6704e-06\n",
      "Epoch 29/40\n",
      "11/11 [==============================] - 0s 7ms/step - loss: 4.6414e-06 - val_loss: 3.6293e-06\n",
      "Epoch 30/40\n",
      "11/11 [==============================] - 0s 7ms/step - loss: 4.4933e-06 - val_loss: 3.5728e-06\n",
      "Epoch 31/40\n",
      "11/11 [==============================] - 0s 7ms/step - loss: 4.3198e-06 - val_loss: 3.4435e-06\n",
      "Epoch 32/40\n",
      "11/11 [==============================] - 0s 7ms/step - loss: 4.1437e-06 - val_loss: 3.3479e-06\n",
      "Epoch 33/40\n",
      "11/11 [==============================] - 0s 7ms/step - loss: 4.0508e-06 - val_loss: 3.2788e-06\n",
      "Epoch 34/40\n",
      "11/11 [==============================] - 0s 6ms/step - loss: 3.8972e-06 - val_loss: 3.1888e-06\n",
      "Epoch 35/40\n",
      "11/11 [==============================] - 0s 7ms/step - loss: 3.8607e-06 - val_loss: 3.1565e-06\n",
      "Epoch 36/40\n",
      "11/11 [==============================] - 0s 7ms/step - loss: 3.8602e-06 - val_loss: 3.1045e-06\n",
      "Epoch 37/40\n",
      "11/11 [==============================] - 0s 7ms/step - loss: 3.7772e-06 - val_loss: 3.0967e-06\n",
      "Epoch 38/40\n",
      "11/11 [==============================] - 0s 7ms/step - loss: 3.6742e-06 - val_loss: 3.0638e-06\n",
      "Epoch 39/40\n",
      "11/11 [==============================] - 0s 6ms/step - loss: 3.6886e-06 - val_loss: 3.0100e-06\n",
      "Epoch 40/40\n",
      "11/11 [==============================] - 0s 6ms/step - loss: 3.6596e-06 - val_loss: 3.0319e-06\n",
      "12/12 [==============================] - 0s 3ms/step\n",
      "35/35 [==============================] - 0s 2ms/step\n"
     ]
    },
    {
     "data": {
      "text/html": [
       "<div>\n",
       "<style scoped>\n",
       "    .dataframe tbody tr th:only-of-type {\n",
       "        vertical-align: middle;\n",
       "    }\n",
       "\n",
       "    .dataframe tbody tr th {\n",
       "        vertical-align: top;\n",
       "    }\n",
       "\n",
       "    .dataframe thead th {\n",
       "        text-align: right;\n",
       "    }\n",
       "</style>\n",
       "<table border=\"1\" class=\"dataframe\">\n",
       "  <thead>\n",
       "    <tr style=\"text-align: right;\">\n",
       "      <th></th>\n",
       "      <th>Loss_mse</th>\n",
       "      <th>Threshold</th>\n",
       "      <th>Anomaly</th>\n",
       "    </tr>\n",
       "  </thead>\n",
       "  <tbody>\n",
       "    <tr>\n",
       "      <th>2403</th>\n",
       "      <td>0.001271</td>\n",
       "      <td>0.004077</td>\n",
       "      <td>0</td>\n",
       "    </tr>\n",
       "    <tr>\n",
       "      <th>2404</th>\n",
       "      <td>0.001215</td>\n",
       "      <td>0.004077</td>\n",
       "      <td>0</td>\n",
       "    </tr>\n",
       "    <tr>\n",
       "      <th>2405</th>\n",
       "      <td>0.001479</td>\n",
       "      <td>0.004077</td>\n",
       "      <td>0</td>\n",
       "    </tr>\n",
       "    <tr>\n",
       "      <th>2406</th>\n",
       "      <td>0.000284</td>\n",
       "      <td>0.004077</td>\n",
       "      <td>0</td>\n",
       "    </tr>\n",
       "    <tr>\n",
       "      <th>2407</th>\n",
       "      <td>0.001260</td>\n",
       "      <td>0.004077</td>\n",
       "      <td>0</td>\n",
       "    </tr>\n",
       "  </tbody>\n",
       "</table>\n",
       "</div>"
      ],
      "text/plain": [
       "      Loss_mse  Threshold  Anomaly\n",
       "2403  0.001271   0.004077        0\n",
       "2404  0.001215   0.004077        0\n",
       "2405  0.001479   0.004077        0\n",
       "2406  0.000284   0.004077        0\n",
       "2407  0.001260   0.004077        0"
      ]
     },
     "execution_count": 115,
     "metadata": {},
     "output_type": "execute_result"
    }
   ],
   "source": [
    "clear_session()\n",
    "\n",
    "train_2 = train[train['type'] == 2].iloc[:, :-1]\n",
    "test_2 = test[test['type'] == 2].iloc[:, :-1]\n",
    "\n",
    "# 정규화\n",
    "scaler = MinMaxScaler()\n",
    "train_scaled = scaler.fit_transform(train_2)\n",
    "test_scaled = scaler.transform(test_2)\n",
    "\n",
    "# reshape\n",
    "train_scaled = train_scaled.reshape(train_scaled.shape[0], 1, train_scaled.shape[1])\n",
    "test_scaled = test_scaled.reshape(test_scaled.shape[0], 1, test_scaled.shape[1])\n",
    "\n",
    "# 모델 컴파일\n",
    "model = ae_model(train_scaled)\n",
    "model.compile(optimizer=Adam(lr=0.001), loss='mse')\n",
    "\n",
    "# 모델 학습\n",
    "history = model.fit(train_scaled, train_scaled, epochs=40, batch_size=32, validation_split=0.1).history\n",
    "\n",
    "# train 재구성 오차를 계산합니다.\n",
    "train_pred = model.predict(train_scaled)\n",
    "train_pred = train_pred.reshape(train_pred.shape[0], train_pred.shape[2])\n",
    "train_pred = pd.DataFrame(train_pred, columns=train_2.columns)\n",
    "train_pred.index = train_2.index\n",
    "\n",
    "scored = pd.DataFrame(index=train_2.index)\n",
    "Xtrain = train_scaled.reshape(train_scaled.shape[0], train_scaled.shape[2])\n",
    "scored['Loss_mse'] = np.mean(np.abs(train_pred - Xtrain), axis=1)\n",
    "\n",
    "\n",
    "# test 재구성 오차\n",
    "threshold = np.percentile(scored, 100)     \n",
    "\n",
    "test_pred = model.predict(test_scaled)\n",
    "test_pred = test_pred.reshape(test_pred.shape[0], test_pred.shape[2])\n",
    "test_pred = pd.DataFrame(test_pred, columns=test_2.columns)\n",
    "test_pred.index = test_2.index\n",
    "\n",
    "test_scored = pd.DataFrame(index=test_2.index)\n",
    "Xtest = test_scaled.reshape(test_scaled.shape[0], test_scaled.shape[2])\n",
    "test_scored['Loss_mse'] = np.mean(np.abs(test_pred - Xtest), axis=1)\n",
    "test_scored['Threshold'] = threshold\n",
    "test_scored['Anomaly'] = test_scored['Loss_mse'] > test_scored['Threshold']\n",
    "\n",
    "test_scored['Anomaly'] = test_scored['Anomaly'].replace(False, 0)\n",
    "test_scored['Anomaly'] = test_scored['Anomaly'].replace(True, 1)\n",
    "test_scored.head()"
   ]
  },
  {
   "cell_type": "code",
   "execution_count": 116,
   "metadata": {
    "colab": {
     "base_uri": "https://localhost:8080/"
    },
    "id": "h_PB8P2BGnpP",
    "outputId": "61f244ff-9e61-4d99-ded0-7ed41785615c"
   },
   "outputs": [
    {
     "data": {
      "text/plain": [
       "0    1071\n",
       "1      27\n",
       "Name: Anomaly, dtype: int64"
      ]
     },
     "execution_count": 116,
     "metadata": {},
     "output_type": "execute_result"
    }
   ],
   "source": [
    "test_scored['Anomaly'].value_counts()"
   ]
  },
  {
   "cell_type": "code",
   "execution_count": 117,
   "metadata": {
    "id": "oC84UDF8GnnK"
   },
   "outputs": [],
   "source": [
    "# 결과\n",
    "result_2 = result[result['type'] == 2]\n",
    "result_2['label'] = test_scored['Anomaly'].values"
   ]
  },
  {
   "attachments": {},
   "cell_type": "markdown",
   "metadata": {},
   "source": [
    "## type = 3"
   ]
  },
  {
   "cell_type": "code",
   "execution_count": 118,
   "metadata": {
    "colab": {
     "base_uri": "https://localhost:8080/",
     "height": 1000
    },
    "id": "nlh-EoOCG4a7",
    "outputId": "1e1b1443-1cb7-4732-e781-03b3ec67a033"
   },
   "outputs": [
    {
     "name": "stdout",
     "output_type": "stream",
     "text": [
      "Epoch 1/40\n",
      "9/9 [==============================] - 1s 50ms/step - loss: 0.2753 - val_loss: 0.1706\n",
      "Epoch 2/40\n",
      "9/9 [==============================] - 0s 8ms/step - loss: 0.1745 - val_loss: 0.0728\n",
      "Epoch 3/40\n",
      "9/9 [==============================] - 0s 7ms/step - loss: 0.0552 - val_loss: 0.0247\n",
      "Epoch 4/40\n",
      "9/9 [==============================] - 0s 8ms/step - loss: 0.0228 - val_loss: 0.0126\n",
      "Epoch 5/40\n",
      "9/9 [==============================] - 0s 8ms/step - loss: 0.0099 - val_loss: 0.0093\n",
      "Epoch 6/40\n",
      "9/9 [==============================] - 0s 7ms/step - loss: 0.0080 - val_loss: 0.0068\n",
      "Epoch 7/40\n",
      "9/9 [==============================] - 0s 7ms/step - loss: 0.0045 - val_loss: 0.0034\n",
      "Epoch 8/40\n",
      "9/9 [==============================] - 0s 7ms/step - loss: 0.0027 - val_loss: 0.0021\n",
      "Epoch 9/40\n",
      "9/9 [==============================] - 0s 8ms/step - loss: 0.0014 - val_loss: 8.8833e-04\n",
      "Epoch 10/40\n",
      "9/9 [==============================] - 0s 8ms/step - loss: 5.8404e-04 - val_loss: 4.1864e-04\n",
      "Epoch 11/40\n",
      "9/9 [==============================] - 0s 8ms/step - loss: 2.4370e-04 - val_loss: 1.9734e-04\n",
      "Epoch 12/40\n",
      "9/9 [==============================] - 0s 9ms/step - loss: 1.2997e-04 - val_loss: 1.4888e-04\n",
      "Epoch 13/40\n",
      "9/9 [==============================] - 0s 8ms/step - loss: 9.4938e-05 - val_loss: 1.0505e-04\n",
      "Epoch 14/40\n",
      "9/9 [==============================] - 0s 8ms/step - loss: 6.8609e-05 - val_loss: 8.1733e-05\n",
      "Epoch 15/40\n",
      "9/9 [==============================] - 0s 7ms/step - loss: 5.1696e-05 - val_loss: 6.5731e-05\n",
      "Epoch 16/40\n",
      "9/9 [==============================] - 0s 7ms/step - loss: 4.0534e-05 - val_loss: 5.3051e-05\n",
      "Epoch 17/40\n",
      "9/9 [==============================] - 0s 7ms/step - loss: 3.2850e-05 - val_loss: 4.4207e-05\n",
      "Epoch 18/40\n",
      "9/9 [==============================] - 0s 8ms/step - loss: 2.7425e-05 - val_loss: 3.9533e-05\n",
      "Epoch 19/40\n",
      "9/9 [==============================] - 0s 9ms/step - loss: 2.4137e-05 - val_loss: 3.5558e-05\n",
      "Epoch 20/40\n",
      "9/9 [==============================] - 0s 9ms/step - loss: 2.1611e-05 - val_loss: 3.3006e-05\n",
      "Epoch 21/40\n",
      "9/9 [==============================] - 0s 9ms/step - loss: 1.9958e-05 - val_loss: 3.1133e-05\n",
      "Epoch 22/40\n",
      "9/9 [==============================] - 0s 9ms/step - loss: 1.8531e-05 - val_loss: 2.9152e-05\n",
      "Epoch 23/40\n",
      "9/9 [==============================] - 0s 10ms/step - loss: 1.6952e-05 - val_loss: 2.7745e-05\n",
      "Epoch 24/40\n",
      "9/9 [==============================] - 0s 7ms/step - loss: 1.5466e-05 - val_loss: 2.5972e-05\n",
      "Epoch 25/40\n",
      "9/9 [==============================] - 0s 7ms/step - loss: 1.4425e-05 - val_loss: 2.4254e-05\n",
      "Epoch 26/40\n",
      "9/9 [==============================] - 0s 7ms/step - loss: 1.3282e-05 - val_loss: 2.2666e-05\n",
      "Epoch 27/40\n",
      "9/9 [==============================] - 0s 8ms/step - loss: 1.2544e-05 - val_loss: 2.1287e-05\n",
      "Epoch 28/40\n",
      "9/9 [==============================] - 0s 7ms/step - loss: 1.1742e-05 - val_loss: 1.9884e-05\n",
      "Epoch 29/40\n",
      "9/9 [==============================] - 0s 10ms/step - loss: 1.0969e-05 - val_loss: 1.8870e-05\n",
      "Epoch 30/40\n",
      "9/9 [==============================] - 0s 7ms/step - loss: 1.0667e-05 - val_loss: 1.7491e-05\n",
      "Epoch 31/40\n",
      "9/9 [==============================] - 0s 7ms/step - loss: 1.0237e-05 - val_loss: 1.6945e-05\n",
      "Epoch 32/40\n",
      "9/9 [==============================] - 0s 7ms/step - loss: 9.9205e-06 - val_loss: 1.6922e-05\n",
      "Epoch 33/40\n",
      "9/9 [==============================] - 0s 7ms/step - loss: 1.0350e-05 - val_loss: 1.5259e-05\n",
      "Epoch 34/40\n",
      "9/9 [==============================] - 0s 7ms/step - loss: 9.4405e-06 - val_loss: 1.4853e-05\n",
      "Epoch 35/40\n",
      "9/9 [==============================] - 0s 7ms/step - loss: 9.0293e-06 - val_loss: 1.4156e-05\n",
      "Epoch 36/40\n",
      "9/9 [==============================] - 0s 7ms/step - loss: 9.0507e-06 - val_loss: 1.3630e-05\n",
      "Epoch 37/40\n",
      "9/9 [==============================] - 0s 8ms/step - loss: 8.6427e-06 - val_loss: 1.3737e-05\n",
      "Epoch 38/40\n",
      "9/9 [==============================] - 0s 7ms/step - loss: 8.9686e-06 - val_loss: 1.2813e-05\n",
      "Epoch 39/40\n",
      "9/9 [==============================] - 0s 7ms/step - loss: 8.6416e-06 - val_loss: 1.3090e-05\n",
      "Epoch 40/40\n",
      "9/9 [==============================] - 0s 7ms/step - loss: 8.3515e-06 - val_loss: 1.1883e-05\n",
      "10/10 [==============================] - 0s 3ms/step\n",
      "29/29 [==============================] - 0s 3ms/step\n"
     ]
    },
    {
     "data": {
      "text/html": [
       "<div>\n",
       "<style scoped>\n",
       "    .dataframe tbody tr th:only-of-type {\n",
       "        vertical-align: middle;\n",
       "    }\n",
       "\n",
       "    .dataframe tbody tr th {\n",
       "        vertical-align: top;\n",
       "    }\n",
       "\n",
       "    .dataframe thead th {\n",
       "        text-align: right;\n",
       "    }\n",
       "</style>\n",
       "<table border=\"1\" class=\"dataframe\">\n",
       "  <thead>\n",
       "    <tr style=\"text-align: right;\">\n",
       "      <th></th>\n",
       "      <th>Loss_mse</th>\n",
       "      <th>Threshold</th>\n",
       "      <th>Anomaly</th>\n",
       "    </tr>\n",
       "  </thead>\n",
       "  <tbody>\n",
       "    <tr>\n",
       "      <th>3501</th>\n",
       "      <td>0.001913</td>\n",
       "      <td>0.015217</td>\n",
       "      <td>0</td>\n",
       "    </tr>\n",
       "    <tr>\n",
       "      <th>3502</th>\n",
       "      <td>0.002101</td>\n",
       "      <td>0.015217</td>\n",
       "      <td>0</td>\n",
       "    </tr>\n",
       "    <tr>\n",
       "      <th>3503</th>\n",
       "      <td>0.001396</td>\n",
       "      <td>0.015217</td>\n",
       "      <td>0</td>\n",
       "    </tr>\n",
       "    <tr>\n",
       "      <th>3504</th>\n",
       "      <td>0.001601</td>\n",
       "      <td>0.015217</td>\n",
       "      <td>0</td>\n",
       "    </tr>\n",
       "    <tr>\n",
       "      <th>3505</th>\n",
       "      <td>0.001329</td>\n",
       "      <td>0.015217</td>\n",
       "      <td>0</td>\n",
       "    </tr>\n",
       "  </tbody>\n",
       "</table>\n",
       "</div>"
      ],
      "text/plain": [
       "      Loss_mse  Threshold  Anomaly\n",
       "3501  0.001913   0.015217        0\n",
       "3502  0.002101   0.015217        0\n",
       "3503  0.001396   0.015217        0\n",
       "3504  0.001601   0.015217        0\n",
       "3505  0.001329   0.015217        0"
      ]
     },
     "execution_count": 118,
     "metadata": {},
     "output_type": "execute_result"
    }
   ],
   "source": [
    "clear_session()\n",
    "\n",
    "train_3 = train[train['type'] == 3].iloc[:, :-1]\n",
    "test_3 = test[test['type'] == 3].iloc[:, :-1]\n",
    "\n",
    "# 정규화\n",
    "scaler = MinMaxScaler()\n",
    "train_scaled = scaler.fit_transform(train_3)\n",
    "test_scaled = scaler.transform(test_3)\n",
    "\n",
    "# reshape\n",
    "train_scaled = train_scaled.reshape(train_scaled.shape[0], 1, train_scaled.shape[1])\n",
    "test_scaled = test_scaled.reshape(test_scaled.shape[0], 1, test_scaled.shape[1])\n",
    "\n",
    "# 모델 컴파일\n",
    "model = ae_model(train_scaled)\n",
    "model.compile(optimizer=Adam(lr=0.001), loss='mse')\n",
    "\n",
    "# 모델 학습\n",
    "history = model.fit(train_scaled, train_scaled, epochs=40, batch_size=32, validation_split=0.1).history\n",
    "\n",
    "# train 재구성 오차를 계산합니다.\n",
    "train_pred = model.predict(train_scaled)\n",
    "train_pred = train_pred.reshape(train_pred.shape[0], train_pred.shape[2])\n",
    "train_pred = pd.DataFrame(train_pred, columns=train_3.columns)\n",
    "train_pred.index = train_3.index\n",
    "\n",
    "scored = pd.DataFrame(index=train_3.index)\n",
    "Xtrain = train_scaled.reshape(train_scaled.shape[0], train_scaled.shape[2])\n",
    "scored['Loss_mse'] = np.mean(np.abs(train_pred - Xtrain), axis=1)\n",
    "\n",
    "# test 재구성 오차\n",
    "threshold = np.percentile(scored, 100)     \n",
    "\n",
    "test_pred = model.predict(test_scaled)\n",
    "test_pred = test_pred.reshape(test_pred.shape[0], test_pred.shape[2])\n",
    "test_pred = pd.DataFrame(test_pred, columns=test_3.columns)\n",
    "test_pred.index = test_3.index\n",
    "\n",
    "test_scored = pd.DataFrame(index=test_3.index)\n",
    "Xtest = test_scaled.reshape(test_scaled.shape[0], test_scaled.shape[2])\n",
    "test_scored['Loss_mse'] = np.mean(np.abs(test_pred - Xtest), axis=1)\n",
    "test_scored['Threshold'] = threshold\n",
    "test_scored['Anomaly'] = test_scored['Loss_mse'] > test_scored['Threshold']\n",
    "\n",
    "test_scored['Anomaly'] = test_scored['Anomaly'].replace(False, 0)\n",
    "test_scored['Anomaly'] = test_scored['Anomaly'].replace(True, 1)\n",
    "test_scored.head()"
   ]
  },
  {
   "cell_type": "code",
   "execution_count": 119,
   "metadata": {
    "colab": {
     "base_uri": "https://localhost:8080/"
    },
    "id": "srlvN-mpG4ZG",
    "outputId": "9e7f069b-6fc2-4fc8-9d89-9af6b09f05ab"
   },
   "outputs": [
    {
     "data": {
      "text/plain": [
       "0    891\n",
       "1     27\n",
       "Name: Anomaly, dtype: int64"
      ]
     },
     "execution_count": 119,
     "metadata": {},
     "output_type": "execute_result"
    }
   ],
   "source": [
    "test_scored['Anomaly'].value_counts()"
   ]
  },
  {
   "cell_type": "code",
   "execution_count": 120,
   "metadata": {
    "id": "thu13t18G4Xk"
   },
   "outputs": [],
   "source": [
    "# 결과\n",
    "result_3 = result[result['type'] == 3]\n",
    "result_3['label'] = test_scored['Anomaly'].values"
   ]
  },
  {
   "attachments": {},
   "cell_type": "markdown",
   "metadata": {},
   "source": [
    "## type = 0, 4, 5, 6, 7"
   ]
  },
  {
   "cell_type": "code",
   "execution_count": 121,
   "metadata": {
    "colab": {
     "base_uri": "https://localhost:8080/",
     "height": 958
    },
    "id": "25Ed3ZThG4We",
    "outputId": "732a8e71-cd27-44d2-e39a-346c9dce033a"
   },
   "outputs": [
    {
     "name": "stdout",
     "output_type": "stream",
     "text": [
      "Epoch 1/20\n",
      "40/40 [==============================] - 2s 12ms/step - loss: 0.1289 - val_loss: 0.0116\n",
      "Epoch 2/20\n",
      "40/40 [==============================] - 0s 4ms/step - loss: 0.0034 - val_loss: 0.0011\n",
      "Epoch 3/20\n",
      "40/40 [==============================] - 0s 4ms/step - loss: 3.8326e-04 - val_loss: 1.7765e-04\n",
      "Epoch 4/20\n",
      "40/40 [==============================] - 0s 4ms/step - loss: 7.0571e-05 - val_loss: 4.4416e-05\n",
      "Epoch 5/20\n",
      "40/40 [==============================] - 0s 4ms/step - loss: 2.4399e-05 - val_loss: 2.3166e-05\n",
      "Epoch 6/20\n",
      "40/40 [==============================] - 0s 4ms/step - loss: 1.3208e-05 - val_loss: 1.0918e-05\n",
      "Epoch 7/20\n",
      "40/40 [==============================] - 0s 4ms/step - loss: 6.6000e-06 - val_loss: 5.8082e-06\n",
      "Epoch 8/20\n",
      "40/40 [==============================] - 0s 3ms/step - loss: 3.8787e-06 - val_loss: 3.5894e-06\n",
      "Epoch 9/20\n",
      "40/40 [==============================] - 0s 4ms/step - loss: 2.7781e-06 - val_loss: 2.3961e-06\n",
      "Epoch 10/20\n",
      "40/40 [==============================] - 0s 5ms/step - loss: 1.9629e-06 - val_loss: 1.7347e-06\n",
      "Epoch 11/20\n",
      "40/40 [==============================] - 0s 3ms/step - loss: 1.6064e-06 - val_loss: 1.4565e-06\n",
      "Epoch 12/20\n",
      "40/40 [==============================] - 0s 3ms/step - loss: 1.4320e-06 - val_loss: 1.2291e-06\n",
      "Epoch 13/20\n",
      "40/40 [==============================] - 0s 3ms/step - loss: 1.3289e-06 - val_loss: 1.2767e-06\n",
      "Epoch 14/20\n",
      "40/40 [==============================] - 0s 3ms/step - loss: 1.2229e-06 - val_loss: 1.0480e-06\n",
      "Epoch 15/20\n",
      "40/40 [==============================] - 0s 4ms/step - loss: 1.2736e-06 - val_loss: 1.3669e-06\n",
      "Epoch 16/20\n",
      "40/40 [==============================] - 0s 4ms/step - loss: 1.1548e-06 - val_loss: 1.1266e-06\n",
      "Epoch 17/20\n",
      "40/40 [==============================] - 0s 4ms/step - loss: 1.1303e-06 - val_loss: 1.1943e-06\n",
      "Epoch 18/20\n",
      "40/40 [==============================] - 0s 4ms/step - loss: 1.1353e-06 - val_loss: 9.7839e-07\n",
      "Epoch 19/20\n",
      "40/40 [==============================] - 0s 4ms/step - loss: 1.0379e-06 - val_loss: 9.2556e-07\n",
      "Epoch 20/20\n",
      "40/40 [==============================] - 0s 4ms/step - loss: 1.0647e-06 - val_loss: 1.0327e-06\n",
      "45/45 [==============================] - 0s 2ms/step\n",
      "134/134 [==============================] - 0s 2ms/step\n"
     ]
    },
    {
     "data": {
      "text/html": [
       "<div>\n",
       "<style scoped>\n",
       "    .dataframe tbody tr th:only-of-type {\n",
       "        vertical-align: middle;\n",
       "    }\n",
       "\n",
       "    .dataframe tbody tr th {\n",
       "        vertical-align: top;\n",
       "    }\n",
       "\n",
       "    .dataframe thead th {\n",
       "        text-align: right;\n",
       "    }\n",
       "</style>\n",
       "<table border=\"1\" class=\"dataframe\">\n",
       "  <thead>\n",
       "    <tr style=\"text-align: right;\">\n",
       "      <th></th>\n",
       "      <th>Loss_mse</th>\n",
       "      <th>Threshold</th>\n",
       "      <th>Anomaly</th>\n",
       "    </tr>\n",
       "  </thead>\n",
       "  <tbody>\n",
       "    <tr>\n",
       "      <th>0</th>\n",
       "      <td>0.000541</td>\n",
       "      <td>0.00399</td>\n",
       "      <td>0</td>\n",
       "    </tr>\n",
       "    <tr>\n",
       "      <th>1</th>\n",
       "      <td>0.000759</td>\n",
       "      <td>0.00399</td>\n",
       "      <td>0</td>\n",
       "    </tr>\n",
       "    <tr>\n",
       "      <th>2</th>\n",
       "      <td>0.000434</td>\n",
       "      <td>0.00399</td>\n",
       "      <td>0</td>\n",
       "    </tr>\n",
       "    <tr>\n",
       "      <th>3</th>\n",
       "      <td>0.000889</td>\n",
       "      <td>0.00399</td>\n",
       "      <td>0</td>\n",
       "    </tr>\n",
       "    <tr>\n",
       "      <th>4</th>\n",
       "      <td>0.000405</td>\n",
       "      <td>0.00399</td>\n",
       "      <td>0</td>\n",
       "    </tr>\n",
       "  </tbody>\n",
       "</table>\n",
       "</div>"
      ],
      "text/plain": [
       "   Loss_mse  Threshold  Anomaly\n",
       "0  0.000541    0.00399        0\n",
       "1  0.000759    0.00399        0\n",
       "2  0.000434    0.00399        0\n",
       "3  0.000889    0.00399        0\n",
       "4  0.000405    0.00399        0"
      ]
     },
     "execution_count": 121,
     "metadata": {},
     "output_type": "execute_result"
    }
   ],
   "source": [
    "clear_session()\n",
    "\n",
    "train_4 = train[train['type'].isin([0, 4, 5, 6, 7])].iloc[:, :-1]\n",
    "test_4 = test[test['type'].isin([0, 4, 5, 6, 7])].iloc[:, :-1]\n",
    "\n",
    "# 정규화\n",
    "scaler = MinMaxScaler()\n",
    "train_scaled = scaler.fit_transform(train_4)\n",
    "test_scaled = scaler.transform(test_4)\n",
    "\n",
    "# reshape\n",
    "train_scaled = train_scaled.reshape(train_scaled.shape[0], 1, train_scaled.shape[1])\n",
    "test_scaled = test_scaled.reshape(test_scaled.shape[0], 1, test_scaled.shape[1])\n",
    "\n",
    "# 모델 컴파일\n",
    "model = ae_model(train_scaled)\n",
    "model.compile(optimizer=Adam(lr=0.001), loss='mse')\n",
    "\n",
    "# 모델 학습\n",
    "history = model.fit(train_scaled, train_scaled, epochs=20, batch_size=32, validation_split=0.1).history\n",
    "\n",
    "# train 재구성 오차를 계산합니다.\n",
    "train_pred = model.predict(train_scaled)\n",
    "train_pred = train_pred.reshape(train_pred.shape[0], train_pred.shape[2])\n",
    "train_pred = pd.DataFrame(train_pred, columns=train_4.columns)\n",
    "train_pred.index = train_4.index\n",
    "\n",
    "scored = pd.DataFrame(index=train_4.index)\n",
    "Xtrain = train_scaled.reshape(train_scaled.shape[0], train_scaled.shape[2])\n",
    "scored['Loss_mse'] = np.mean(np.abs(train_pred - Xtrain), axis=1)\n",
    "\n",
    "# test 재구성 오차\n",
    "threshold = np.percentile(scored, 100)     \n",
    "\n",
    "test_pred = model.predict(test_scaled)\n",
    "test_pred = test_pred.reshape(test_pred.shape[0], test_pred.shape[2])\n",
    "test_pred = pd.DataFrame(test_pred, columns=test_4.columns)\n",
    "test_pred.index = test_4.index\n",
    "\n",
    "test_scored = pd.DataFrame(index=test_4.index)\n",
    "Xtest = test_scaled.reshape(test_scaled.shape[0], test_scaled.shape[2])\n",
    "test_scored['Loss_mse'] = np.mean(np.abs(test_pred - Xtest), axis=1)\n",
    "test_scored['Threshold'] = threshold\n",
    "test_scored['Anomaly'] = test_scored['Loss_mse'] > test_scored['Threshold']\n",
    "\n",
    "test_scored['Anomaly'] = test_scored['Anomaly'].replace(False, 0)\n",
    "test_scored['Anomaly'] = test_scored['Anomaly'].replace(True, 1)\n",
    "test_scored.head()"
   ]
  },
  {
   "cell_type": "code",
   "execution_count": 122,
   "metadata": {
    "colab": {
     "base_uri": "https://localhost:8080/"
    },
    "id": "bUkvqx4kG4U8",
    "outputId": "dac11d60-73d1-4186-ae8f-823cefeb7236"
   },
   "outputs": [
    {
     "data": {
      "text/plain": [
       "0    3973\n",
       "1     293\n",
       "Name: Anomaly, dtype: int64"
      ]
     },
     "execution_count": 122,
     "metadata": {},
     "output_type": "execute_result"
    }
   ],
   "source": [
    "test_scored['Anomaly'].value_counts()"
   ]
  },
  {
   "cell_type": "code",
   "execution_count": 123,
   "metadata": {
    "id": "nfW_EkyMG4SU"
   },
   "outputs": [],
   "source": [
    "# 결과\n",
    "result_0 = result[result['type'].isin([0, 4, 5, 6, 7])]\n",
    "result_0['label'] = test_scored['Anomaly'].values"
   ]
  },
  {
   "attachments": {},
   "cell_type": "markdown",
   "metadata": {
    "id": "AfqEOSqIbL-2"
   },
   "source": [
    "## 결과 저장"
   ]
  },
  {
   "cell_type": "code",
   "execution_count": 124,
   "metadata": {
    "id": "Ual_s7pVIMa8"
   },
   "outputs": [],
   "source": [
    "final = pd.concat([result_0, result_1], axis=0).sort_index()\n",
    "final = pd.concat([final, result_2], axis=0).sort_index()\n",
    "final = pd.concat([final, result_3], axis=0).sort_index()"
   ]
  },
  {
   "cell_type": "code",
   "execution_count": 125,
   "metadata": {
    "id": "0L_psY_3I-5m"
   },
   "outputs": [],
   "source": [
    "final.to_csv('autoencoder_lstm.csv', index=False)"
   ]
  }
 ],
 "metadata": {
  "colab": {
   "provenance": []
  },
  "kernelspec": {
   "display_name": "Python 3 (ipykernel)",
   "language": "python",
   "name": "python3"
  },
  "language_info": {
   "codemirror_mode": {
    "name": "ipython",
    "version": 3
   },
   "file_extension": ".py",
   "mimetype": "text/x-python",
   "name": "python",
   "nbconvert_exporter": "python",
   "pygments_lexer": "ipython3",
   "version": "3.10.8"
  }
 },
 "nbformat": 4,
 "nbformat_minor": 1
}
